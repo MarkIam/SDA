{
 "cells": [
  {
   "cell_type": "code",
   "execution_count": 1,
   "id": "fe3b3f45",
   "metadata": {},
   "outputs": [],
   "source": [
    "from polls.models import Question, Choice\n",
    "import os\n",
    "os.environ[\"DJANGO_ALLOW_ASYNC_UNSAFE\"] = \"true\""
   ]
  },
  {
   "cell_type": "code",
   "execution_count": 2,
   "id": "dc25152d",
   "metadata": {},
   "outputs": [],
   "source": [
    "from django.utils import timezone\n",
    "q = Question(question_text='Что делать?', pub_date = timezone.now())\n",
    "q.save()"
   ]
  },
  {
   "cell_type": "code",
   "execution_count": 5,
   "id": "26984e26",
   "metadata": {},
   "outputs": [
    {
     "data": {
      "text/plain": [
       "3"
      ]
     },
     "execution_count": 5,
     "metadata": {},
     "output_type": "execute_result"
    }
   ],
   "source": [
    "q = Question.objects.filter(question_text__startswith='Что')[0]\n",
    "q.id"
   ]
  },
  {
   "cell_type": "code",
   "execution_count": 11,
   "id": "a7023b09",
   "metadata": {},
   "outputs": [
    {
     "data": {
      "text/plain": [
       "<Question: Кто виноват?>"
      ]
     },
     "execution_count": 11,
     "metadata": {},
     "output_type": "execute_result"
    }
   ],
   "source": [
    "current_year = timezone.now().year\n",
    "Question.objects.get(pub_date__year=current_year)"
   ]
  },
  {
   "cell_type": "code",
   "execution_count": 6,
   "id": "e7cd39b8",
   "metadata": {},
   "outputs": [],
   "source": [
    "q3 = Question.objects.get(pk=3)"
   ]
  },
  {
   "cell_type": "code",
   "execution_count": 10,
   "id": "3a52dcff",
   "metadata": {},
   "outputs": [
    {
     "data": {
      "text/plain": [
       "<Choice: Бежать>"
      ]
     },
     "execution_count": 10,
     "metadata": {},
     "output_type": "execute_result"
    }
   ],
   "source": [
    "q3.choice_set.create(choice_text='Бежать', votes=0)"
   ]
  },
  {
   "cell_type": "code",
   "execution_count": 9,
   "id": "22d289f3",
   "metadata": {},
   "outputs": [
    {
     "data": {
      "text/plain": [
       "2"
      ]
     },
     "execution_count": 9,
     "metadata": {},
     "output_type": "execute_result"
    }
   ],
   "source": [
    "q3.choice_set.all().count()"
   ]
  },
  {
   "cell_type": "code",
   "execution_count": 25,
   "id": "31f018d9",
   "metadata": {},
   "outputs": [
    {
     "data": {
      "text/plain": [
       "<QuerySet [<Choice: Они>, <Choice: Мы>]>"
      ]
     },
     "execution_count": 25,
     "metadata": {},
     "output_type": "execute_result"
    }
   ],
   "source": [
    "Choice.objects.filter(question__id = 2)"
   ]
  },
  {
   "cell_type": "code",
   "execution_count": null,
   "id": "11c1e84c",
   "metadata": {},
   "outputs": [],
   "source": []
  }
 ],
 "metadata": {
  "kernelspec": {
   "display_name": "Django Shell-Plus",
   "language": "python",
   "name": "django_extensions"
  },
  "language_info": {
   "codemirror_mode": {
    "name": "ipython",
    "version": 3
   },
   "file_extension": ".py",
   "mimetype": "text/x-python",
   "name": "python",
   "nbconvert_exporter": "python",
   "pygments_lexer": "ipython3",
   "version": "3.10.0"
  }
 },
 "nbformat": 4,
 "nbformat_minor": 5
}
