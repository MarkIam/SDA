{
 "cells": [
  {
   "cell_type": "code",
   "execution_count": 1,
   "id": "fe3b3f45",
   "metadata": {},
   "outputs": [],
   "source": [
    "from manifest.models import PlaneLift\n",
    "import os\n",
    "from django.db.models import Q\n",
    "os.environ[\"DJANGO_ALLOW_ASYNC_UNSAFE\"] = \"true\""
   ]
  },
  {
   "cell_type": "code",
   "execution_count": 15,
   "id": "54c22ca6",
   "metadata": {},
   "outputs": [
    {
     "data": {
      "text/plain": [
       "2"
      ]
     },
     "execution_count": 15,
     "metadata": {},
     "output_type": "execute_result"
    }
   ],
   "source": [
    "queryset = PlaneLift.objects.filter(~Q(status='CMP') & ~Q(status='CNC')).filter(day = '2021-12-04').order_by('ord_number')\n",
    "queryset.count()\n"
   ]
  }
 ],
 "metadata": {
  "kernelspec": {
   "display_name": "Django Shell-Plus",
   "language": "python",
   "name": "django_extensions"
  },
  "language_info": {
   "codemirror_mode": {
    "name": "ipython",
    "version": 3
   },
   "file_extension": ".py",
   "mimetype": "text/x-python",
   "name": "python",
   "nbconvert_exporter": "python",
   "pygments_lexer": "ipython3",
   "version": "3.10.0"
  }
 },
 "nbformat": 4,
 "nbformat_minor": 5
}
