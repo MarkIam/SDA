{
 "cells": [
  {
   "cell_type": "code",
   "execution_count": 6,
   "id": "fe3b3f45",
   "metadata": {},
   "outputs": [],
   "source": [
    "from manifest.models import PlaneLift, SkydiverRequest\n",
    "import os\n",
    "from django.db.models import Q\n",
    "os.environ[\"DJANGO_ALLOW_ASYNC_UNSAFE\"] = \"true\""
   ]
  },
  {
   "cell_type": "code",
   "execution_count": 15,
   "id": "54c22ca6",
   "metadata": {},
   "outputs": [
    {
     "data": {
      "text/plain": [
       "2"
      ]
     },
     "execution_count": 15,
     "metadata": {},
     "output_type": "execute_result"
    }
   ],
   "source": [
    "queryset = PlaneLift.objects.filter(~Q(status='CMP') & ~Q(status='CNC')).filter(day = '2021-12-04').order_by('ord_number')\n",
    "queryset.count()\n"
   ]
  },
  {
   "cell_type": "code",
   "execution_count": 27,
   "id": "bad866a7",
   "metadata": {},
   "outputs": [
    {
     "data": {
      "text/plain": [
       "<QuerySet [<SkydiverRequest: Черепанов Юрий, FreeFly, 2500.0>]>"
      ]
     },
     "execution_count": 27,
     "metadata": {},
     "output_type": "execute_result"
    }
   ],
   "source": [
    "PlaneLift.objects.get(pk=5).requests.all()\n"
   ]
  },
  {
   "cell_type": "code",
   "execution_count": 12,
   "id": "c8c1d53e",
   "metadata": {},
   "outputs": [
    {
     "data": {
      "text/plain": [
       "<QuerySet [<PlaneLift: 1,RA-123456,01.12.2021>, <PlaneLift: 2,RA-123456,01.12.2021>, <PlaneLift: 3,RA-123456,01.12.2021>, <PlaneLift: 1,RA-123456,04.12.2021>, <PlaneLift: 2,RA-123456,04.12.2021>]>"
      ]
     },
     "execution_count": 12,
     "metadata": {},
     "output_type": "execute_result"
    }
   ],
   "source": [
    "PlaneLift.objects.all()"
   ]
  },
  {
   "cell_type": "code",
   "execution_count": 24,
   "id": "aedc7d2c",
   "metadata": {},
   "outputs": [
    {
     "data": {
      "text/plain": [
       "True"
      ]
     },
     "execution_count": 24,
     "metadata": {},
     "output_type": "execute_result"
    }
   ],
   "source": [
    "SkydiverRequest.objects.get(pk=5).planelift_set.exists()"
   ]
  },
  {
   "cell_type": "code",
   "execution_count": null,
   "id": "fa71b2f8",
   "metadata": {},
   "outputs": [],
   "source": []
  }
 ],
 "metadata": {
  "kernelspec": {
   "display_name": "Django Shell-Plus",
   "language": "python",
   "name": "django_extensions"
  },
  "language_info": {
   "codemirror_mode": {
    "name": "ipython",
    "version": 3
   },
   "file_extension": ".py",
   "mimetype": "text/x-python",
   "name": "python",
   "nbconvert_exporter": "python",
   "pygments_lexer": "ipython3",
   "version": "3.10.0"
  }
 },
 "nbformat": 4,
 "nbformat_minor": 5
}
