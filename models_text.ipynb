{
 "cells": [
  {
   "cell_type": "code",
   "execution_count": 1,
   "id": "fe3b3f45",
   "metadata": {},
   "outputs": [],
   "source": [
    "from manifest.models import SkydiverRequest\n",
    "import os\n",
    "os.environ[\"DJANGO_ALLOW_ASYNC_UNSAFE\"] = \"true\""
   ]
  },
  {
   "cell_type": "code",
   "execution_count": 2,
   "id": "54c22ca6",
   "metadata": {},
   "outputs": [],
   "source": [
    "queryset = SkydiverRequest.objects.filter(status='CR').order_by('discipline')"
   ]
  },
  {
   "cell_type": "code",
   "execution_count": 3,
   "id": "dc421849",
   "metadata": {},
   "outputs": [
    {
     "data": {
      "text/plain": [
       "6"
      ]
     },
     "execution_count": 3,
     "metadata": {},
     "output_type": "execute_result"
    }
   ],
   "source": [
    "queryset.count()"
   ]
  },
  {
   "cell_type": "code",
   "execution_count": 11,
   "id": "a2065384",
   "metadata": {},
   "outputs": [
    {
     "data": {
      "text/plain": [
       "'Тандем-прыжок'"
      ]
     },
     "execution_count": 11,
     "metadata": {},
     "output_type": "execute_result"
    }
   ],
   "source": [
    "queryset[5].discipline.name"
   ]
  },
  {
   "cell_type": "code",
   "execution_count": null,
   "id": "5d3fc68c",
   "metadata": {},
   "outputs": [],
   "source": []
  }
 ],
 "metadata": {
  "kernelspec": {
   "display_name": "Django Shell-Plus",
   "language": "python",
   "name": "django_extensions"
  },
  "language_info": {
   "codemirror_mode": {
    "name": "ipython",
    "version": 3
   },
   "file_extension": ".py",
   "mimetype": "text/x-python",
   "name": "python",
   "nbconvert_exporter": "python",
   "pygments_lexer": "ipython3",
   "version": "3.10.0"
  }
 },
 "nbformat": 4,
 "nbformat_minor": 5
}
